{
 "cells": [
  {
   "cell_type": "markdown",
   "metadata": {},
   "source": [
    "# COGS 118A- Project Checkpoint"
   ]
  },
  {
   "cell_type": "markdown",
   "metadata": {},
   "source": [
    "# Names\n",
    "\n",
    "Hopefully your team is at least this good. Obviously you should replace these with your names.\n",
    "\n",
    "- Jalani Bowman"
   ]
  },
  {
   "cell_type": "markdown",
   "metadata": {},
   "source": [
    "# Abstract \n",
    "Goal is to predict whether a stock price in the S&P500 will move up or down based on a tweet. To do this a dataset composed of financial tweets will be combined with a dataset of the stock prices of all S&P500 companies broken down into 4 or 6 hour blocks to allow for some level of intraday price change analysis. This will be accomplished with a classification model such as KNN. Performance will be measured by the percentage of cases that the model can correctly predict from the test dataset.\n"
   ]
  },
  {
   "cell_type": "markdown",
   "metadata": {},
   "source": [
    "# Background\n",
    "\n",
    "This question is relevant because with companies like Robin-Hood and M1-Finance popping up in recent times and making stock market investing accessible to anyone with the knowledge to download a smartphone app, that opens the doors to social media marketing tactics that could potentially move prices by creating a mob of retail investors that act in unision. This is enhanced with the introduction of fractional investing offered through these platforms which allows an investor to purchase a fractional amount of a share, removing the barrier for low-capital-retail-investors to invest in companies that have a high price per share. These tactics can be any combination of covert/overt and unintentional/intentional to the human eye but perhaps there are underlying patterns that the right machine learning algorithm can caputre."
   ]
  },
  {
   "cell_type": "markdown",
   "metadata": {},
   "source": [
    "# Problem Statement\n",
    "\n",
    "Classify/predict the next day effect of a tweet on the stock price of certain top stocks in the S&P500, to determine whether it will go up, down, or sideways during the next trading day. \n"
   ]
  },
  {
   "cell_type": "markdown",
   "metadata": {},
   "source": [
    "# Data\n",
    "\n",
    "Tweets Dataset: https://ieee-dataport.org/open-access/stock-market-tweets-data#files\n",
    "- This dataset has 943,672 observations with two variables per observation. An observation consists of a date-timestamp and the content of a tweet made at that time. The first part of is to change the column names and make sure the datatypes are set up correctly. This dataset contains tweets about many different stocks but no way to tell what stocks a given tween is talking about without looking into the tweet, so I create a new column in the dataset where each entry is an array of all words in the tweet beggining with the $ symbol, this symbol signifies stock tickers on twitter.\n",
    "\n",
    "Stock Price Dataset: https://www.kaggle.com/paultimothymooney/stock-market-data \n",
    "- This dataset has is split up into many different csv files, generally one for each companies historical market data going all the way back to 1980. 10 of the CSV files will be used in the project namely: XOM.csv, V.csv, MSFT.csv, KO.csv, JNJ.csv, GOOG.csv, FB.csv, DIS.csv, AMZN.csv, AAPL.csv, each one representing a different company in the S&P500. Each CSV is set up the same way, they have 7 variables and 10440 observations. An observation represents a price activity on that day, the observation lists the data, open and close prices, Low and high prices, and volume. The cleaning done to these datasets is to truncate all dates outside of the range of our tweets dataset, which only spans about 3 months, and then to normalize all of the numerical price data.\n",
    "\n"
   ]
  },
  {
   "cell_type": "markdown",
   "metadata": {},
   "source": [
    "# Proposed Solution\n",
    "\n",
    "I plan to solve the problem by using the following as inputs for the model: A tweet, the most recent price data to that tweet (could be market open or close depending on when the tweet is made), and price data from 5 business days prior in order to establish a recent trendline. The model will return the expected price movement vector for the following day (defined as the next sequential open and close. \n",
    "\n",
    "   In order to assure that the data in the test set has not already been seen by the algorithm the training and test sets will be divided by timestamp. "
   ]
  },
  {
   "cell_type": "markdown",
   "metadata": {},
   "source": [
    "# Evaluation Metrics\n",
    "\n",
    "A confusion matrix will be used to evaluate the model in order to obtain an accuracy that tells us how often we can expect the model to correctly predict price increase, decrease, or stagnation. Cross validation is also an area of interest."
   ]
  },
  {
   "cell_type": "markdown",
   "metadata": {},
   "source": [
    "# Preliminary results\n",
    "\n",
    "working on"
   ]
  },
  {
   "cell_type": "markdown",
   "metadata": {},
   "source": [
    "# Ethics & Privacy"
   ]
  },
  {
   "cell_type": "markdown",
   "metadata": {},
   "source": [
    "All of the data being used in this project from the stock price data to the tweets and timestamps is public data. The tweet  data does not contain the handle/username of tweets author however there is the potential to lookup the content of the tweet on twitter itself and find that information anyway. \n",
    "\n"
   ]
  },
  {
   "cell_type": "markdown",
   "metadata": {},
   "source": [
    "# Team Expectations "
   ]
  },
  {
   "cell_type": "markdown",
   "metadata": {},
   "source": [
    "set appropriate deadlines and do ones best to keep them."
   ]
  },
  {
   "cell_type": "markdown",
   "metadata": {},
   "source": [
    "# Project Timeline Proposal"
   ]
  },
  {
   "cell_type": "markdown",
   "metadata": {},
   "source": [
    "| Meeting Date  | Meeting Time| Completed Before Meeting  | Discuss at Meeting |\n",
    "|---|---|---|---|\n",
    "| 5/20  |  1 PM |  Project Checkpoint\n",
    "| 5/30  | 10 AM  | Finalize all early sections\n",
    "| 6/02  | 12 PM  | Finalize wrangling/EDA; Begin programming for project | Discuss/edit project code; Complete project |\n",
    "| 6/07  | 12 PM  | Complete analysis; Draft results/conclusion/discussion| edit full project |\n",
    "| 6/08  | Before 11:59 PM  | NA | Turn in Final Project  |"
   ]
  },
  {
   "cell_type": "markdown",
   "metadata": {},
   "source": [
    "# Footnotes\n",
    "<a name=\"lorenznote\"></a>1.[^](#lorenz): Lorenz, T. (9 Dec 2021) Birds Aren’t Real, or Are They? Inside a Gen Z Conspiracy Theory. *The New York Times*. https://www.nytimes.com/2021/12/09/technology/birds-arent-real-gen-z-misinformation.html<br> \n",
    "<a name=\"admonishnote\"></a>2.[^](#admonish): Also refs should be important to the background, not some randomly chosen vaguely related stuff. Include a web link if possible in refs as above.<br>\n",
    "<a name=\"sotanote\"></a>3.[^](#sota): Perhaps the current state of the art solution such as you see on [Papers with code](https://paperswithcode.com/sota). Or maybe not SOTA, but rather a standard textbook/Kaggle solution to this kind of problem\n"
   ]
  },
  {
   "cell_type": "code",
   "execution_count": null,
   "metadata": {},
   "outputs": [],
   "source": []
  }
 ],
 "metadata": {
  "kernelspec": {
   "display_name": "Python 3 (ipykernel)",
   "language": "python",
   "name": "python3"
  },
  "language_info": {
   "codemirror_mode": {
    "name": "ipython",
    "version": 3
   },
   "file_extension": ".py",
   "mimetype": "text/x-python",
   "name": "python",
   "nbconvert_exporter": "python",
   "pygments_lexer": "ipython3",
   "version": "3.9.5"
  }
 },
 "nbformat": 4,
 "nbformat_minor": 2
}
